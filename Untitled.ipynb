{
 "cells": [
  {
   "cell_type": "code",
   "execution_count": 1,
   "id": "a5f93800",
   "metadata": {},
   "outputs": [
    {
     "name": "stdout",
     "output_type": "stream",
     "text": [
      "user\n",
      "user_sec\n",
      "project\n",
      "project_sec\n"
     ]
    }
   ],
   "source": [
    "import os\n",
    "print(os.environ['user'])\n",
    "print(os.environ['user_sec'])\n",
    "print(os.environ['project'])\n",
    "print(os.environ['project_sec'])"
   ]
  },
  {
   "cell_type": "code",
   "execution_count": null,
   "id": "773a13af",
   "metadata": {},
   "outputs": [],
   "source": []
  }
 ],
 "metadata": {
  "kernelspec": {
   "display_name": "Python 3",
   "language": "python",
   "name": "python3"
  },
  "language_info": {
   "codemirror_mode": {
    "name": "ipython",
    "version": 3
   },
   "file_extension": ".py",
   "mimetype": "text/x-python",
   "name": "python",
   "nbconvert_exporter": "python",
   "pygments_lexer": "ipython3",
   "version": "3.8.13"
  }
 },
 "nbformat": 4,
 "nbformat_minor": 5
}
